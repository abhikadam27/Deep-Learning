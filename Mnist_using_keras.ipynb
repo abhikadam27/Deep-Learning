{
  "nbformat": 4,
  "nbformat_minor": 0,
  "metadata": {
    "colab": {
      "name": "Mnist_using keras",
      "provenance": [],
      "collapsed_sections": []
    },
    "kernelspec": {
      "name": "python3",
      "display_name": "Python 3"
    },
    "language_info": {
      "name": "python"
    }
  },
  "cells": [
    {
      "cell_type": "markdown",
      "metadata": {
        "id": "nCCmf4hvTh-u"
      },
      "source": [
        "# ***MNIST number recognization using keras***"
      ]
    },
    {
      "cell_type": "markdown",
      "metadata": {
        "id": "sv0GF8IZTWuf"
      },
      "source": [
        "## Importing required libraries"
      ]
    },
    {
      "cell_type": "code",
      "metadata": {
        "id": "-eHMstwpaNFE"
      },
      "source": [
        "import numpy as np\n",
        "import matplotlib.pyplot as plt\n",
        "from keras.layers import Dense, Flatten\n",
        "from keras.models import Sequential\n",
        "from tensorflow.keras.utils import to_categorical\n",
        "from keras.datasets import mnist\n",
        "from keras import utils\n",
        "import tensorflow as tf"
      ],
      "execution_count": 20,
      "outputs": []
    },
    {
      "cell_type": "markdown",
      "metadata": {
        "id": "pKoTG1nLT3hn"
      },
      "source": [
        "## Loading mnist dataset"
      ]
    },
    {
      "cell_type": "code",
      "metadata": {
        "id": "CdJ-uPrXa48Z"
      },
      "source": [
        "(x_train, y_train), (x_test, y_test) = mnist.load_data()"
      ],
      "execution_count": 2,
      "outputs": []
    },
    {
      "cell_type": "code",
      "metadata": {
        "colab": {
          "base_uri": "https://localhost:8080/"
        },
        "id": "ZcotZQ2ibq8n",
        "outputId": "9a278409-2577-4ec7-eef3-dc89ca0ba537"
      },
      "source": [
        "y_test.shape"
      ],
      "execution_count": 3,
      "outputs": [
        {
          "output_type": "execute_result",
          "data": {
            "text/plain": [
              "(10000,)"
            ]
          },
          "metadata": {},
          "execution_count": 3
        }
      ]
    },
    {
      "cell_type": "code",
      "metadata": {
        "colab": {
          "base_uri": "https://localhost:8080/",
          "height": 145
        },
        "id": "AyKu36JTbxM6",
        "outputId": "c08e5649-17f8-4a02-e136-6d1079815401"
      },
      "source": [
        "fig, axes = plt.subplots(ncols = 10, sharex = False, sharey = True, figsize = ( 20, 4))\n",
        "for i in range(10):\n",
        "  axes[i].set_title(y_train[i])\n",
        "  axes[i].imshow(x_train[i], cmap = 'gray')\n",
        "  axes[i].get_xaxis().set_visible(False)\n",
        "  axes[i].get_yaxis().set_visible(False)\n",
        "plt.show()"
      ],
      "execution_count": 4,
      "outputs": [
        {
          "output_type": "display_data",
          "data": {
            "image/png": "[encoded data removed]",
            "text/plain": [
              "<Figure size 1440x288 with 10 Axes>"
            ]
          },
          "metadata": {
            "needs_background": "light"
          }
        }
      ]
    },
    {
      "cell_type": "code",
      "metadata": {
        "id": "yyFgFlgRc6kX"
      },
      "source": [
        "y_train = to_categorical(y_train)\n",
        "y_test = to_categorical(y_test)"
      ],
      "execution_count": 5,
      "outputs": []
    },
    {
      "cell_type": "code",
      "metadata": {
        "colab": {
          "base_uri": "https://localhost:8080/"
        },
        "id": "MCPyoYFhXWh9",
        "outputId": "5a79e7a6-0a2c-456b-bd0e-ac323a2ded7f"
      },
      "source": [
        "y_test.shape"
      ],
      "execution_count": 6,
      "outputs": [
        {
          "output_type": "execute_result",
          "data": {
            "text/plain": [
              "(10000, 10)"
            ]
          },
          "metadata": {},
          "execution_count": 6
        }
      ]
    },
    {
      "cell_type": "markdown",
      "metadata": {
        "id": "YfisNOOaUH4C"
      },
      "source": [
        "## Model Building"
      ]
    },
    {
      "cell_type": "code",
      "metadata": {
        "id": "vnRvnoswXjVn"
      },
      "source": [
        "model = Sequential()\n",
        "model.add(Flatten(input_shape = (28,28)))\n",
        "model.add(Dense(10, activation='sigmoid'))\n",
        "model.add(Dense(5, activation='sigmoid'))\n",
        "model.add(Dense(10, activation='Softmax'))"
      ],
      "execution_count": 7,
      "outputs": []
    },
    {
      "cell_type": "code",
      "metadata": {
        "colab": {
          "base_uri": "https://localhost:8080/"
        },
        "id": "2fUvc-5NYPQj",
        "outputId": "d8d23347-ce4f-464d-cadc-3017fc3af236"
      },
      "source": [
        "model.summary"
      ],
      "execution_count": 8,
      "outputs": [
        {
          "output_type": "execute_result",
          "data": {
            "text/plain": [
              "<bound method Model.summary of <keras.engine.sequential.Sequential object at 0x7fa7e01deb90>>"
            ]
          },
          "metadata": {},
          "execution_count": 8
        }
      ]
    },
    {
      "cell_type": "code",
      "metadata": {
        "colab": {
          "base_uri": "https://localhost:8080/",
          "height": 532
        },
        "id": "XyebAZxLYeis",
        "outputId": "0ad2b27a-eca1-4f8f-8d6b-d24097555d19"
      },
      "source": [
        "from keras.utils.vis_utils import plot_model\n",
        "plot_model(model, show_shapes = True)"
      ],
      "execution_count": 9,
      "outputs": [
        {
          "output_type": "execute_result",
          "data": {
            "image/png": "[encoded data removed]",
            "text/plain": [
              "<IPython.core.display.Image object>"
            ]
          },
          "metadata": {},
          "execution_count": 9
        }
      ]
    },
    {
      "cell_type": "code",
      "metadata": {
        "id": "NrX9Ab05Yn4Q"
      },
      "source": [
        "model.compile(loss='categorical_crossentropy',\n",
        "              optimizer = 'adam',\n",
        "              metrics = ['acc'])"
      ],
      "execution_count": 10,
      "outputs": []
    },
    {
      "cell_type": "code",
      "metadata": {
        "colab": {
          "base_uri": "https://localhost:8080/"
        },
        "id": "aeuIcuLkb59m",
        "outputId": "2307510d-347a-4e22-f156-80a39dab0d86"
      },
      "source": [
        "history = model.fit(x_train, y_train, epochs=29,\n",
        "          validation_data = (x_test,y_test))"
      ],
      "execution_count": 11,
      "outputs": [
        {
          "output_type": "stream",
          "name": "stdout",
          "text": [
            "Epoch 1/29\n",
            "1875/1875 [==============================] - 4s 2ms/step - loss: 1.7791 - acc: 0.4013 - val_loss: 1.4816 - val_acc: 0.5013\n",
            "Epoch 2/29\n",
            "1875/1875 [==============================] - 3s 2ms/step - loss: 1.2857 - acc: 0.5989 - val_loss: 1.1427 - val_acc: 0.6800\n",
            "Epoch 3/29\n",
            "1875/1875 [==============================] - 3s 2ms/step - loss: 1.0643 - acc: 0.6865 - val_loss: 1.0422 - val_acc: 0.6807\n",
            "Epoch 4/29\n",
            "1875/1875 [==============================] - 3s 2ms/step - loss: 0.9401 - acc: 0.7084 - val_loss: 0.9208 - val_acc: 0.7122\n",
            "Epoch 5/29\n",
            "1875/1875 [==============================] - 3s 2ms/step - loss: 0.8267 - acc: 0.7449 - val_loss: 0.7463 - val_acc: 0.7736\n",
            "Epoch 6/29\n",
            "1875/1875 [==============================] - 3s 2ms/step - loss: 0.7382 - acc: 0.7889 - val_loss: 0.6962 - val_acc: 0.8054\n",
            "Epoch 7/29\n",
            "1875/1875 [==============================] - 3s 2ms/step - loss: 0.6962 - acc: 0.7950 - val_loss: 0.6596 - val_acc: 0.8197\n",
            "Epoch 8/29\n",
            "1875/1875 [==============================] - 3s 2ms/step - loss: 0.6386 - acc: 0.8245 - val_loss: 0.6298 - val_acc: 0.8311\n",
            "Epoch 9/29\n",
            "1875/1875 [==============================] - 3s 2ms/step - loss: 0.6369 - acc: 0.8178 - val_loss: 0.6305 - val_acc: 0.8199\n",
            "Epoch 10/29\n",
            "1875/1875 [==============================] - 3s 2ms/step - loss: 0.6327 - acc: 0.8227 - val_loss: 0.5951 - val_acc: 0.8285\n",
            "Epoch 11/29\n",
            "1875/1875 [==============================] - 3s 2ms/step - loss: 0.6252 - acc: 0.8257 - val_loss: 0.6137 - val_acc: 0.8259\n",
            "Epoch 12/29\n",
            "1875/1875 [==============================] - 3s 2ms/step - loss: 0.6032 - acc: 0.8282 - val_loss: 0.6050 - val_acc: 0.8341\n",
            "Epoch 13/29\n",
            "1875/1875 [==============================] - 3s 2ms/step - loss: 0.5894 - acc: 0.8396 - val_loss: 0.5358 - val_acc: 0.8568\n",
            "Epoch 14/29\n",
            "1875/1875 [==============================] - 3s 2ms/step - loss: 0.5998 - acc: 0.8347 - val_loss: 0.5862 - val_acc: 0.8372\n",
            "Epoch 15/29\n",
            "1875/1875 [==============================] - 3s 2ms/step - loss: 0.5854 - acc: 0.8407 - val_loss: 0.5822 - val_acc: 0.8432\n",
            "Epoch 16/29\n",
            "1875/1875 [==============================] - 3s 2ms/step - loss: 0.5726 - acc: 0.8435 - val_loss: 0.5618 - val_acc: 0.8488\n",
            "Epoch 17/29\n",
            "1875/1875 [==============================] - 4s 2ms/step - loss: 0.6058 - acc: 0.8275 - val_loss: 0.5543 - val_acc: 0.8471\n",
            "Epoch 18/29\n",
            "1875/1875 [==============================] - 3s 2ms/step - loss: 0.5797 - acc: 0.8358 - val_loss: 0.5704 - val_acc: 0.8458\n",
            "Epoch 19/29\n",
            "1875/1875 [==============================] - 3s 2ms/step - loss: 0.5797 - acc: 0.8423 - val_loss: 0.5541 - val_acc: 0.8546\n",
            "Epoch 20/29\n",
            "1875/1875 [==============================] - 3s 2ms/step - loss: 0.5636 - acc: 0.8448 - val_loss: 0.5450 - val_acc: 0.8542\n",
            "Epoch 21/29\n",
            "1875/1875 [==============================] - 3s 2ms/step - loss: 0.5531 - acc: 0.8513 - val_loss: 0.5482 - val_acc: 0.8526\n",
            "Epoch 22/29\n",
            "1875/1875 [==============================] - 3s 2ms/step - loss: 0.5461 - acc: 0.8525 - val_loss: 0.5418 - val_acc: 0.8574\n",
            "Epoch 23/29\n",
            "1875/1875 [==============================] - 3s 2ms/step - loss: 0.5407 - acc: 0.8543 - val_loss: 0.5204 - val_acc: 0.8630\n",
            "Epoch 24/29\n",
            "1875/1875 [==============================] - 3s 2ms/step - loss: 0.5451 - acc: 0.8479 - val_loss: 0.5553 - val_acc: 0.8469\n",
            "Epoch 25/29\n",
            "1875/1875 [==============================] - 3s 2ms/step - loss: 0.5484 - acc: 0.8482 - val_loss: 0.5647 - val_acc: 0.8257\n",
            "Epoch 26/29\n",
            "1875/1875 [==============================] - 3s 2ms/step - loss: 0.5522 - acc: 0.8410 - val_loss: 0.5120 - val_acc: 0.8649\n",
            "Epoch 27/29\n",
            "1875/1875 [==============================] - 4s 2ms/step - loss: 0.5340 - acc: 0.8543 - val_loss: 0.5149 - val_acc: 0.8577\n",
            "Epoch 28/29\n",
            "1875/1875 [==============================] - 4s 2ms/step - loss: 0.5255 - acc: 0.8546 - val_loss: 0.5293 - val_acc: 0.8530\n",
            "Epoch 29/29\n",
            "1875/1875 [==============================] - 3s 2ms/step - loss: 0.5141 - acc: 0.8629 - val_loss: 0.4929 - val_acc: 0.8739\n"
          ]
        }
      ]
    },
    {
      "cell_type": "code",
      "metadata": {
        "id": "fQQq4xR3cLME"
      },
      "source": [
        "model.save('mnist_model.h5')"
      ],
      "execution_count": 12,
      "outputs": []
    },
    {
      "cell_type": "code",
      "metadata": {
        "colab": {
          "base_uri": "https://localhost:8080/"
        },
        "id": "VVv3GXqfVbDM",
        "outputId": "cb2897b8-3468-4dc5-e0ec-66a4f2e1e739"
      },
      "source": [
        "history.history"
      ],
      "execution_count": 13,
      "outputs": [
        {
          "output_type": "execute_result",
          "data": {
            "text/plain": [
              "{'acc': [0.401283323764801,\n",
              "  0.5989000201225281,\n",
              "  0.6865333318710327,\n",
              "  0.7083666920661926,\n",
              "  0.7448999881744385,\n",
              "  0.7889333367347717,\n",
              "  0.7950000166893005,\n",
              "  0.8244500160217285,\n",
              "  0.8178166747093201,\n",
              "  0.8226666450500488,\n",
              "  0.8257499933242798,\n",
              "  0.8282166719436646,\n",
              "  0.8395833373069763,\n",
              "  0.8347333073616028,\n",
              "  0.840666651725769,\n",
              "  0.8435333371162415,\n",
              "  0.8275166749954224,\n",
              "  0.8357666730880737,\n",
              "  0.8423333168029785,\n",
              "  0.8447999954223633,\n",
              "  0.8513166904449463,\n",
              "  0.852483332157135,\n",
              "  0.8542500138282776,\n",
              "  0.8478999733924866,\n",
              "  0.8482166528701782,\n",
              "  0.8410333395004272,\n",
              "  0.8542666435241699,\n",
              "  0.8546333312988281,\n",
              "  0.8628833293914795],\n",
              " 'loss': [1.7791179418563843,\n",
              "  1.2857359647750854,\n",
              "  1.0642999410629272,\n",
              "  0.9401326775550842,\n",
              "  0.8267258405685425,\n",
              "  0.7382403016090393,\n",
              "  0.6961995363235474,\n",
              "  0.6386086344718933,\n",
              "  0.6368512511253357,\n",
              "  0.6326902508735657,\n",
              "  0.6251626014709473,\n",
              "  0.6031771302223206,\n",
              "  0.5894345641136169,\n",
              "  0.5998083353042603,\n",
              "  0.5854344367980957,\n",
              "  0.5726081132888794,\n",
              "  0.6057609915733337,\n",
              "  0.5796627998352051,\n",
              "  0.5797252655029297,\n",
              "  0.5636148452758789,\n",
              "  0.5530799627304077,\n",
              "  0.5460567474365234,\n",
              "  0.5406516790390015,\n",
              "  0.5450624227523804,\n",
              "  0.548399806022644,\n",
              "  0.5522128939628601,\n",
              "  0.5339874625205994,\n",
              "  0.5255241990089417,\n",
              "  0.5140917897224426],\n",
              " 'val_acc': [0.5012999773025513,\n",
              "  0.6800000071525574,\n",
              "  0.6807000041007996,\n",
              "  0.7121999859809875,\n",
              "  0.7735999822616577,\n",
              "  0.805400013923645,\n",
              "  0.8197000026702881,\n",
              "  0.8310999870300293,\n",
              "  0.8198999762535095,\n",
              "  0.828499972820282,\n",
              "  0.8259000182151794,\n",
              "  0.8341000080108643,\n",
              "  0.8568000197410583,\n",
              "  0.8371999859809875,\n",
              "  0.8432000279426575,\n",
              "  0.848800003528595,\n",
              "  0.847100019454956,\n",
              "  0.84579998254776,\n",
              "  0.8546000123023987,\n",
              "  0.854200005531311,\n",
              "  0.8525999784469604,\n",
              "  0.8574000000953674,\n",
              "  0.8629999756813049,\n",
              "  0.8468999862670898,\n",
              "  0.8256999850273132,\n",
              "  0.8648999929428101,\n",
              "  0.857699990272522,\n",
              "  0.8529999852180481,\n",
              "  0.8738999962806702],\n",
              " 'val_loss': [1.481637716293335,\n",
              "  1.14272141456604,\n",
              "  1.0422126054763794,\n",
              "  0.9207947254180908,\n",
              "  0.7462692856788635,\n",
              "  0.6962483525276184,\n",
              "  0.6596141457557678,\n",
              "  0.6297558546066284,\n",
              "  0.6304861307144165,\n",
              "  0.5950785875320435,\n",
              "  0.6136509776115417,\n",
              "  0.6049578785896301,\n",
              "  0.5357986092567444,\n",
              "  0.5861741900444031,\n",
              "  0.582229733467102,\n",
              "  0.5617982149124146,\n",
              "  0.5543056130409241,\n",
              "  0.5703669190406799,\n",
              "  0.5540621876716614,\n",
              "  0.5450320839881897,\n",
              "  0.5481698513031006,\n",
              "  0.5417954325675964,\n",
              "  0.5204166173934937,\n",
              "  0.5552949905395508,\n",
              "  0.5647121667861938,\n",
              "  0.5120416283607483,\n",
              "  0.5148763060569763,\n",
              "  0.5293468832969666,\n",
              "  0.4928562641143799]}"
            ]
          },
          "metadata": {},
          "execution_count": 13
        }
      ]
    },
    {
      "cell_type": "code",
      "metadata": {
        "colab": {
          "base_uri": "https://localhost:8080/",
          "height": 265
        },
        "id": "yimPgXh5WmEl",
        "outputId": "01d44f8d-653f-4b78-d959-638a941e7a02"
      },
      "source": [
        "plt.plot(history.history['loss'], label = 'Train Loss')\n",
        "plt.plot(history.history['val_loss'], label = 'Validation Loss')\n",
        "plt.legend()\n",
        "plt.show()"
      ],
      "execution_count": 14,
      "outputs": [
        {
          "output_type": "display_data",
          "data": {
            "image/png": "[encoded data removed]",
            "text/plain": [
              "<Figure size 432x288 with 1 Axes>"
            ]
          },
          "metadata": {
            "needs_background": "light"
          }
        }
      ]
    },
    {
      "cell_type": "code",
      "metadata": {
        "colab": {
          "base_uri": "https://localhost:8080/",
          "height": 265
        },
        "id": "eNavsFL3XJve",
        "outputId": "42d9eb7b-d3e3-4d56-8807-5bffee897d70"
      },
      "source": [
        "plt.plot(history.history['acc'], label = \"Train acc\")\n",
        "plt.plot(history.history['val_loss'], label = \"Validation acc\")\n",
        "plt.legend()\n",
        "plt.show()"
      ],
      "execution_count": 15,
      "outputs": [
        {
          "output_type": "display_data",
          "data": {
            "image/png": "[encoded data removed]",
            "text/plain": [
              "<Figure size 432x288 with 1 Axes>"
            ]
          },
          "metadata": {
            "needs_background": "light"
          }
        }
      ]
    },
    {
      "cell_type": "code",
      "metadata": {
        "id": "t-FD_RPeXkbZ"
      },
      "source": [
        "import keras\n",
        "model = keras.models.load_model('mnist_model.h5')"
      ],
      "execution_count": 17,
      "outputs": []
    },
    {
      "cell_type": "markdown",
      "metadata": {
        "id": "CllTG5kdYzvd"
      },
      "source": [
        "# ***Lets make prediction for a image***"
      ]
    },
    {
      "cell_type": "code",
      "metadata": {
        "colab": {
          "base_uri": "https://localhost:8080/",
          "height": 281
        },
        "id": "3JOyyy9wXzA8",
        "outputId": "b306b71c-7791-440a-e3f4-82c097bb0272"
      },
      "source": [
        "plt.imshow(x_test[0], cmap='gray')"
      ],
      "execution_count": 18,
      "outputs": [
        {
          "output_type": "execute_result",
          "data": {
            "text/plain": [
              "<matplotlib.image.AxesImage at 0x7fa7dd020c50>"
            ]
          },
          "metadata": {},
          "execution_count": 18
        },
        {
          "output_type": "display_data",
          "data": {
            "image/png": "[encoded data removed]",
            "text/plain": [
              "<Figure size 432x288 with 1 Axes>"
            ]
          },
          "metadata": {
            "needs_background": "light"
          }
        }
      ]
    },
    {
      "cell_type": "code",
      "metadata": {
        "colab": {
          "base_uri": "https://localhost:8080/"
        },
        "id": "tWGv5-5jYT_c",
        "outputId": "e299cc4c-5fd1-486c-fbf1-2e3d64b173cc"
      },
      "source": [
        "x= np.reshape(x_test[0], (1,28,28))\n",
        "np.argmax(model.predict(x))"
      ],
      "execution_count": 21,
      "outputs": [
        {
          "output_type": "execute_result",
          "data": {
            "text/plain": [
              "7"
            ]
          },
          "metadata": {},
          "execution_count": 21
        }
      ]
    },
    {
      "cell_type": "markdown",
      "metadata": {
        "id": "MnGJzOBlZVl6"
      },
      "source": [
        "great we got exact output for given image with our model."
      ]
    },
    {
      "cell_type": "code",
      "metadata": {
        "id": "QO5ej60UZaQ6"
      },
      "source": [
        ""
      ],
      "execution_count": null,
      "outputs": []
    }
  ]
}