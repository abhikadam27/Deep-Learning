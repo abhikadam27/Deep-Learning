{
  "nbformat": 4,
  "nbformat_minor": 0,
  "metadata": {
    "colab": {
      "provenance": [],
      "collapsed_sections": [],
      "authorship_tag": "ABX9TyP2+p/UTtLdvDTgGok+3+0A",
      "include_colab_link": true
    },
    "kernelspec": {
      "name": "python3",
      "display_name": "Python 3"
    },
    "language_info": {
      "name": "python"
    }
  },
  "cells": [
    {
      "cell_type": "markdown",
      "metadata": {
        "id": "view-in-github",
        "colab_type": "text"
      },
      "source": [
        "<a href=\"https://colab.research.google.com/github/abhikadam27/Deep-Learning/blob/main/Mnist_using_keras.ipynb\" target=\"_parent\"><img src=\"https://colab.research.google.com/assets/colab-badge.svg\" alt=\"Open In Colab\"/></a>"
      ]
    },
    {
      "cell_type": "markdown",
      "metadata": {
        "id": "nCCmf4hvTh-u"
      },
      "source": [
        "# ***MNIST number recognization using keras***"
      ]
    },
    {
      "cell_type": "markdown",
      "metadata": {
        "id": "sv0GF8IZTWuf"
      },
      "source": [
        "## Importing required libraries"
      ]
    },
    {
      "cell_type": "code",
      "metadata": {
        "id": "-eHMstwpaNFE"
      },
      "source": [
        "import numpy as np\n",
        "import matplotlib.pyplot as plt\n",
        "from keras.layers import Dense, Flatten\n",
        "from keras.models import Sequential\n",
        "from tensorflow.keras.utils import to_categorical\n",
        "from keras.datasets import mnist\n",
        "from keras import utils\n",
        "import tensorflow as tf"
      ],
      "execution_count": 1,
      "outputs": []
    },
    {
      "cell_type": "markdown",
      "metadata": {
        "id": "pKoTG1nLT3hn"
      },
      "source": [
        "## Loading mnist dataset"
      ]
    },
    {
      "cell_type": "code",
      "metadata": {
        "id": "CdJ-uPrXa48Z",
        "colab": {
          "base_uri": "https://localhost:8080/"
        },
        "outputId": "06f98fda-6c8f-436a-cbdc-389d7322611a"
      },
      "source": [
        "(x_train, y_train), (x_test, y_test) = mnist.load_data()"
      ],
      "execution_count": 2,
      "outputs": [
        {
          "output_type": "stream",
          "name": "stdout",
          "text": [
            "Downloading data from https://storage.googleapis.com/tensorflow/tf-keras-datasets/mnist.npz\n",
            "11493376/11490434 [==============================] - 0s 0us/step\n",
            "11501568/11490434 [==============================] - 0s 0us/step\n"
          ]
        }
      ]
    },
    {
      "cell_type": "code",
      "metadata": {
        "colab": {
          "base_uri": "https://localhost:8080/"
        },
        "id": "ZcotZQ2ibq8n",
        "outputId": "70ae66aa-5c04-4ea2-c1bb-52be3c22a456"
      },
      "source": [
        "y_test.shape"
      ],
      "execution_count": 3,
      "outputs": [
        {
          "output_type": "execute_result",
          "data": {
            "text/plain": [
              "(10000,)"
            ]
          },
          "metadata": {},
          "execution_count": 3
        }
      ]
    },
    {
      "cell_type": "code",
      "metadata": {
        "colab": {
          "base_uri": "https://localhost:8080/",
          "height": 145
        },
        "id": "AyKu36JTbxM6",
        "outputId": "a78283d0-1d52-4605-b4e6-f3455428eed6"
      },
      "source": [
        "fig, axes = plt.subplots(ncols = 10, sharex = False, sharey = True, figsize = ( 20, 4))\n",
        "for i in range(10):\n",
        "  axes[i].set_title(y_train[i])\n",
        "  axes[i].imshow(x_train[i], cmap = 'gray')\n",
        "  axes[i].get_xaxis().set_visible(False)\n",
        "  axes[i].get_yaxis().set_visible(False)\n",
        "plt.show()"
      ],
      "execution_count": 4,
      "outputs": [
        {
          "output_type": "display_data",
          "data": {
            "text/plain": [
              "<Figure size 1440x288 with 10 Axes>"
            ],
            "image/png": "[encoded data removed]"
          },
          "metadata": {
            "needs_background": "light"
          }
        }
      ]
    },
    {
      "cell_type": "code",
      "metadata": {
        "id": "yyFgFlgRc6kX"
      },
      "source": [
        "y_train = to_categorical(y_train)\n",
        "y_test = to_categorical(y_test)"
      ],
      "execution_count": 5,
      "outputs": []
    },
    {
      "cell_type": "code",
      "metadata": {
        "colab": {
          "base_uri": "https://localhost:8080/"
        },
        "id": "MCPyoYFhXWh9",
        "outputId": "0df53a5a-58c6-46a7-8065-3016ca17575b"
      },
      "source": [
        "y_test.shape"
      ],
      "execution_count": 6,
      "outputs": [
        {
          "output_type": "execute_result",
          "data": {
            "text/plain": [
              "(10000, 10)"
            ]
          },
          "metadata": {},
          "execution_count": 6
        }
      ]
    },
    {
      "cell_type": "markdown",
      "metadata": {
        "id": "YfisNOOaUH4C"
      },
      "source": [
        "## Model Building"
      ]
    },
    {
      "cell_type": "code",
      "metadata": {
        "id": "vnRvnoswXjVn"
      },
      "source": [
        "model = Sequential()\n",
        "model.add(Flatten(input_shape = (28,28)))\n",
        "model.add(Dense(10, activation='sigmoid'))\n",
        "model.add(Dense(5, activation='sigmoid'))\n",
        "model.add(Dense(10, activation='Softmax'))"
      ],
      "execution_count": 7,
      "outputs": []
    },
    {
      "cell_type": "code",
      "metadata": {
        "colab": {
          "base_uri": "https://localhost:8080/"
        },
        "id": "2fUvc-5NYPQj",
        "outputId": "c9c6965a-c92e-4435-ee01-fab254f44382"
      },
      "source": [
        "model.summary"
      ],
      "execution_count": 8,
      "outputs": [
        {
          "output_type": "execute_result",
          "data": {
            "text/plain": [
              "<bound method Model.summary of <keras.engine.sequential.Sequential object at 0x7fd4013d4d90>>"
            ]
          },
          "metadata": {},
          "execution_count": 8
        }
      ]
    },
    {
      "cell_type": "code",
      "metadata": {
        "colab": {
          "base_uri": "https://localhost:8080/",
          "height": 533
        },
        "id": "XyebAZxLYeis",
        "outputId": "f953fba5-7ce2-4463-e707-45e8a08574b4"
      },
      "source": [
        "from keras.utils.vis_utils import plot_model\n",
        "plot_model(model, show_shapes = True)"
      ],
      "execution_count": 9,
      "outputs": [
        {
          "output_type": "execute_result",
          "data": {
            "image/png": "[encoded data removed]",
            "text/plain": [
              "<IPython.core.display.Image object>"
            ]
          },
          "metadata": {},
          "execution_count": 9
        }
      ]
    },
    {
      "cell_type": "code",
      "metadata": {
        "id": "NrX9Ab05Yn4Q"
      },
      "source": [
        "model.compile(loss='categorical_crossentropy',\n",
        "              optimizer = 'adam',\n",
        "              metrics = ['acc'])"
      ],
      "execution_count": 10,
      "outputs": []
    },
    {
      "cell_type": "code",
      "metadata": {
        "colab": {
          "base_uri": "https://localhost:8080/"
        },
        "id": "aeuIcuLkb59m",
        "outputId": "d273f9d8-c021-46a3-9e16-6fb10f950f16"
      },
      "source": [
        "history = model.fit(x_train, y_train, epochs=29,\n",
        "          validation_data = (x_test,y_test))"
      ],
      "execution_count": 11,
      "outputs": [
        {
          "output_type": "stream",
          "name": "stdout",
          "text": [
            "Epoch 1/29\n",
            "1875/1875 [==============================] - 5s 2ms/step - loss: 1.8405 - acc: 0.3517 - val_loss: 1.4181 - val_acc: 0.5564\n",
            "Epoch 2/29\n",
            "1875/1875 [==============================] - 3s 2ms/step - loss: 1.2808 - acc: 0.5582 - val_loss: 1.1477 - val_acc: 0.6194\n",
            "Epoch 3/29\n",
            "1875/1875 [==============================] - 4s 2ms/step - loss: 1.0813 - acc: 0.6543 - val_loss: 1.0133 - val_acc: 0.7064\n",
            "Epoch 4/29\n",
            "1875/1875 [==============================] - 4s 2ms/step - loss: 0.9581 - acc: 0.7105 - val_loss: 0.9245 - val_acc: 0.7257\n",
            "Epoch 5/29\n",
            "1875/1875 [==============================] - 4s 2ms/step - loss: 0.8866 - acc: 0.7420 - val_loss: 0.8697 - val_acc: 0.7421\n",
            "Epoch 6/29\n",
            "1875/1875 [==============================] - 4s 2ms/step - loss: 0.8737 - acc: 0.7190 - val_loss: 0.8300 - val_acc: 0.7635\n",
            "Epoch 7/29\n",
            "1875/1875 [==============================] - 5s 3ms/step - loss: 0.7920 - acc: 0.7630 - val_loss: 0.7407 - val_acc: 0.7725\n",
            "Epoch 8/29\n",
            "1875/1875 [==============================] - 4s 2ms/step - loss: 0.7531 - acc: 0.7711 - val_loss: 0.7443 - val_acc: 0.7810\n",
            "Epoch 9/29\n",
            "1875/1875 [==============================] - 4s 2ms/step - loss: 0.7449 - acc: 0.7703 - val_loss: 0.7582 - val_acc: 0.7628\n",
            "Epoch 10/29\n",
            "1875/1875 [==============================] - 4s 2ms/step - loss: 0.7226 - acc: 0.7761 - val_loss: 0.7595 - val_acc: 0.7701\n",
            "Epoch 11/29\n",
            "1875/1875 [==============================] - 3s 2ms/step - loss: 0.7284 - acc: 0.7839 - val_loss: 0.6658 - val_acc: 0.7912\n",
            "Epoch 12/29\n",
            "1875/1875 [==============================] - 4s 2ms/step - loss: 0.6971 - acc: 0.7770 - val_loss: 0.6687 - val_acc: 0.7912\n",
            "Epoch 13/29\n",
            "1875/1875 [==============================] - 3s 2ms/step - loss: 0.6752 - acc: 0.7827 - val_loss: 0.6480 - val_acc: 0.8039\n",
            "Epoch 14/29\n",
            "1875/1875 [==============================] - 4s 2ms/step - loss: 0.6710 - acc: 0.7884 - val_loss: 0.6613 - val_acc: 0.7937\n",
            "Epoch 15/29\n",
            "1875/1875 [==============================] - 4s 2ms/step - loss: 0.6417 - acc: 0.8038 - val_loss: 0.6373 - val_acc: 0.8061\n",
            "Epoch 16/29\n",
            "1875/1875 [==============================] - 3s 2ms/step - loss: 0.6425 - acc: 0.8046 - val_loss: 0.6316 - val_acc: 0.8141\n",
            "Epoch 17/29\n",
            "1875/1875 [==============================] - 4s 2ms/step - loss: 0.6544 - acc: 0.8000 - val_loss: 0.6401 - val_acc: 0.8087\n",
            "Epoch 18/29\n",
            "1875/1875 [==============================] - 3s 2ms/step - loss: 0.6251 - acc: 0.8096 - val_loss: 0.6818 - val_acc: 0.7774\n",
            "Epoch 19/29\n",
            "1875/1875 [==============================] - 4s 2ms/step - loss: 0.6270 - acc: 0.8092 - val_loss: 0.6030 - val_acc: 0.8262\n",
            "Epoch 20/29\n",
            "1875/1875 [==============================] - 4s 2ms/step - loss: 0.6008 - acc: 0.8216 - val_loss: 0.5729 - val_acc: 0.8368\n",
            "Epoch 21/29\n",
            "1875/1875 [==============================] - 4s 2ms/step - loss: 0.6038 - acc: 0.8217 - val_loss: 0.6057 - val_acc: 0.8279\n",
            "Epoch 22/29\n",
            "1875/1875 [==============================] - 4s 2ms/step - loss: 0.6007 - acc: 0.8247 - val_loss: 0.5612 - val_acc: 0.8435\n",
            "Epoch 23/29\n",
            "1875/1875 [==============================] - 4s 2ms/step - loss: 0.5773 - acc: 0.8331 - val_loss: 0.5725 - val_acc: 0.8336\n",
            "Epoch 24/29\n",
            "1875/1875 [==============================] - 4s 2ms/step - loss: 0.5833 - acc: 0.8288 - val_loss: 0.5819 - val_acc: 0.8337\n",
            "Epoch 25/29\n",
            "1875/1875 [==============================] - 4s 2ms/step - loss: 0.5768 - acc: 0.8287 - val_loss: 0.5522 - val_acc: 0.8377\n",
            "Epoch 26/29\n",
            "1875/1875 [==============================] - 3s 2ms/step - loss: 0.5683 - acc: 0.8317 - val_loss: 0.5596 - val_acc: 0.8311\n",
            "Epoch 27/29\n",
            "1875/1875 [==============================] - 4s 2ms/step - loss: 0.5624 - acc: 0.8309 - val_loss: 0.5567 - val_acc: 0.8380\n",
            "Epoch 28/29\n",
            "1875/1875 [==============================] - 4s 2ms/step - loss: 0.5735 - acc: 0.8334 - val_loss: 0.5625 - val_acc: 0.8366\n",
            "Epoch 29/29\n",
            "1875/1875 [==============================] - 4s 2ms/step - loss: 0.5657 - acc: 0.8371 - val_loss: 0.5462 - val_acc: 0.8416\n"
          ]
        }
      ]
    },
    {
      "cell_type": "code",
      "metadata": {
        "id": "fQQq4xR3cLME"
      },
      "source": [
        "model.save('mnist_model.h5')"
      ],
      "execution_count": 12,
      "outputs": []
    },
    {
      "cell_type": "code",
      "metadata": {
        "colab": {
          "base_uri": "https://localhost:8080/"
        },
        "id": "VVv3GXqfVbDM",
        "outputId": "a8cf1700-b04b-4d6b-a350-b36f4ea61151"
      },
      "source": [
        "history.history"
      ],
      "execution_count": 13,
      "outputs": [
        {
          "output_type": "execute_result",
          "data": {
            "text/plain": [
              "{'loss': [1.8405226469039917,\n",
              "  1.2808209657669067,\n",
              "  1.0812820196151733,\n",
              "  0.958084762096405,\n",
              "  0.8866204619407654,\n",
              "  0.8736825585365295,\n",
              "  0.7919701933860779,\n",
              "  0.753068208694458,\n",
              "  0.7449225187301636,\n",
              "  0.7225518822669983,\n",
              "  0.7283688187599182,\n",
              "  0.6970927715301514,\n",
              "  0.6752174496650696,\n",
              "  0.6709682941436768,\n",
              "  0.6417038440704346,\n",
              "  0.6425381302833557,\n",
              "  0.6544463038444519,\n",
              "  0.6250541806221008,\n",
              "  0.6269846558570862,\n",
              "  0.6007912158966064,\n",
              "  0.603786289691925,\n",
              "  0.6006709933280945,\n",
              "  0.5772830843925476,\n",
              "  0.5832643508911133,\n",
              "  0.5768091678619385,\n",
              "  0.5683172941207886,\n",
              "  0.5624353885650635,\n",
              "  0.5734636187553406,\n",
              "  0.5656712055206299],\n",
              " 'acc': [0.35171666741371155,\n",
              "  0.5581666827201843,\n",
              "  0.6542666554450989,\n",
              "  0.7105333209037781,\n",
              "  0.7419666647911072,\n",
              "  0.7190499901771545,\n",
              "  0.7630166411399841,\n",
              "  0.7710833549499512,\n",
              "  0.7702500224113464,\n",
              "  0.7760833501815796,\n",
              "  0.7839499711990356,\n",
              "  0.7769833207130432,\n",
              "  0.7827333211898804,\n",
              "  0.7884166836738586,\n",
              "  0.8038166761398315,\n",
              "  0.8045666813850403,\n",
              "  0.7999500036239624,\n",
              "  0.8095666766166687,\n",
              "  0.8092333078384399,\n",
              "  0.8215500116348267,\n",
              "  0.8216833472251892,\n",
              "  0.8247166872024536,\n",
              "  0.8330833315849304,\n",
              "  0.8287833333015442,\n",
              "  0.8287000060081482,\n",
              "  0.8316666483879089,\n",
              "  0.8308666944503784,\n",
              "  0.8333666920661926,\n",
              "  0.837149977684021],\n",
              " 'val_loss': [1.4180660247802734,\n",
              "  1.1476900577545166,\n",
              "  1.013283371925354,\n",
              "  0.9244871139526367,\n",
              "  0.8696660995483398,\n",
              "  0.8299618363380432,\n",
              "  0.7406668663024902,\n",
              "  0.7442529201507568,\n",
              "  0.7581682205200195,\n",
              "  0.7595327496528625,\n",
              "  0.6658459305763245,\n",
              "  0.6687275767326355,\n",
              "  0.648026704788208,\n",
              "  0.6613149642944336,\n",
              "  0.6373341679573059,\n",
              "  0.6315922141075134,\n",
              "  0.6401181817054749,\n",
              "  0.6817525625228882,\n",
              "  0.6029976010322571,\n",
              "  0.5729297399520874,\n",
              "  0.605747401714325,\n",
              "  0.5612439513206482,\n",
              "  0.57253098487854,\n",
              "  0.5819398760795593,\n",
              "  0.5521685481071472,\n",
              "  0.559614896774292,\n",
              "  0.5567359328269958,\n",
              "  0.5625118017196655,\n",
              "  0.5461887121200562],\n",
              " 'val_acc': [0.5564000010490417,\n",
              "  0.6194000244140625,\n",
              "  0.7063999772071838,\n",
              "  0.7257000207901001,\n",
              "  0.7421000003814697,\n",
              "  0.7634999752044678,\n",
              "  0.7724999785423279,\n",
              "  0.781000018119812,\n",
              "  0.7627999782562256,\n",
              "  0.7700999975204468,\n",
              "  0.7911999821662903,\n",
              "  0.7911999821662903,\n",
              "  0.8039000034332275,\n",
              "  0.7936999797821045,\n",
              "  0.8061000108718872,\n",
              "  0.8141000270843506,\n",
              "  0.8087000250816345,\n",
              "  0.777400016784668,\n",
              "  0.826200008392334,\n",
              "  0.8367999792098999,\n",
              "  0.8278999924659729,\n",
              "  0.843500018119812,\n",
              "  0.8335999846458435,\n",
              "  0.8337000012397766,\n",
              "  0.8377000093460083,\n",
              "  0.8310999870300293,\n",
              "  0.8379999995231628,\n",
              "  0.8366000056266785,\n",
              "  0.8416000008583069]}"
            ]
          },
          "metadata": {},
          "execution_count": 13
        }
      ]
    },
    {
      "cell_type": "code",
      "metadata": {
        "colab": {
          "base_uri": "https://localhost:8080/",
          "height": 265
        },
        "id": "yimPgXh5WmEl",
        "outputId": "a16350f8-2039-4142-b30e-df7c8d5a5c0a"
      },
      "source": [
        "plt.plot(history.history['loss'], label = 'Train Loss')\n",
        "plt.plot(history.history['val_loss'], label = 'Validation Loss')\n",
        "plt.legend()\n",
        "plt.show()"
      ],
      "execution_count": 14,
      "outputs": [
        {
          "output_type": "display_data",
          "data": {
            "text/plain": [
              "<Figure size 432x288 with 1 Axes>"
            ],
            "image/png": "[encoded data removed]"
          },
          "metadata": {
            "needs_background": "light"
          }
        }
      ]
    },
    {
      "cell_type": "code",
      "metadata": {
        "colab": {
          "base_uri": "https://localhost:8080/",
          "height": 265
        },
        "id": "eNavsFL3XJve",
        "outputId": "5ea47997-45ce-49bd-ed28-086fa30b22ff"
      },
      "source": [
        "plt.plot(history.history['acc'], label = \"Train acc\")\n",
        "plt.plot(history.history['val_acc'], label = \"Validation acc\")\n",
        "plt.legend()\n",
        "plt.show()"
      ],
      "execution_count": 15,
      "outputs": [
        {
          "output_type": "display_data",
          "data": {
            "text/plain": [
              "<Figure size 432x288 with 1 Axes>"
            ],
            "image/png": "[encoded data removed]"
          },
          "metadata": {
            "needs_background": "light"
          }
        }
      ]
    },
    {
      "cell_type": "code",
      "metadata": {
        "id": "t-FD_RPeXkbZ"
      },
      "source": [
        "import keras\n",
        "model = keras.models.load_model('mnist_model.h5')"
      ],
      "execution_count": 16,
      "outputs": []
    },
    {
      "cell_type": "markdown",
      "metadata": {
        "id": "CllTG5kdYzvd"
      },
      "source": [
        "# ***Lets make prediction for a image***"
      ]
    },
    {
      "cell_type": "code",
      "metadata": {
        "colab": {
          "base_uri": "https://localhost:8080/",
          "height": 282
        },
        "id": "3JOyyy9wXzA8",
        "outputId": "45c2f993-7e75-45db-a379-c8dbc021e3e8"
      },
      "source": [
        "plt.imshow(x_test[0], cmap='gray')"
      ],
      "execution_count": 17,
      "outputs": [
        {
          "output_type": "execute_result",
          "data": {
            "text/plain": [
              "<matplotlib.image.AxesImage at 0x7fd3fcf4d950>"
            ]
          },
          "metadata": {},
          "execution_count": 17
        },
        {
          "output_type": "display_data",
          "data": {
            "text/plain": [
              "<Figure size 432x288 with 1 Axes>"
            ],
            "image/png": "[encoded data removed]"
          },
          "metadata": {
            "needs_background": "light"
          }
        }
      ]
    },
    {
      "cell_type": "code",
      "metadata": {
        "colab": {
          "base_uri": "https://localhost:8080/"
        },
        "id": "tWGv5-5jYT_c",
        "outputId": "6babff28-7632-49cc-e935-22611753b130"
      },
      "source": [
        "x= np.reshape(x_test[0], (1,28,28))\n",
        "np.argmax(model.predict(x))"
      ],
      "execution_count": 18,
      "outputs": [
        {
          "output_type": "execute_result",
          "data": {
            "text/plain": [
              "7"
            ]
          },
          "metadata": {},
          "execution_count": 18
        }
      ]
    },
    {
      "cell_type": "markdown",
      "metadata": {
        "id": "MnGJzOBlZVl6"
      },
      "source": [
        "great we got exact output for given image with our model."
      ]
    },
    {
      "cell_type": "code",
      "metadata": {
        "id": "QO5ej60UZaQ6"
      },
      "source": [],
      "execution_count": null,
      "outputs": []
    }
  ]
}