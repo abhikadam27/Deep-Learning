{
  "nbformat": 4,
  "nbformat_minor": 0,
  "metadata": {
    "colab": {
      "name": "Transfer learning- Cat vs Dog prediction",
      "provenance": [],
      "private_outputs": true,
      "collapsed_sections": [],
      "mount_file_id": "1fLfg4FphWzMA745y6QSIpKktTXK91Rma",
      "authorship_tag": "ABX9TyOWDDMV2aiMzIitRDAb6fbk",
      "include_colab_link": true
    },
    "kernelspec": {
      "name": "python3",
      "display_name": "Python 3"
    },
    "language_info": {
      "name": "python"
    },
    "accelerator": "GPU"
  },
  "cells": [
    {
      "cell_type": "markdown",
      "metadata": {
        "id": "view-in-github",
        "colab_type": "text"
      },
      "source": [
        "<a href=\"https://colab.research.google.com/github/abhikadam27/Deep-Learning/blob/main/Transfer_learning_Cat_vs_Dog_prediction.ipynb\" target=\"_parent\"><img src=\"https://colab.research.google.com/assets/colab-badge.svg\" alt=\"Open In Colab\"/></a>"
      ]
    },
    {
      "cell_type": "markdown",
      "metadata": {
        "id": "_cdQF9BXB46S"
      },
      "source": [
        "## Cats v/s Dogs Prediction"
      ]
    },
    {
      "cell_type": "code",
      "metadata": {
        "id": "dS-H_XxUDKgh"
      },
      "source": [
        "cd /content/drive/MyDrive"
      ],
      "execution_count": null,
      "outputs": []
    },
    {
      "cell_type": "markdown",
      "source": [
        "## Loading zip file"
      ],
      "metadata": {
        "id": "dAvTKx2FIbIv"
      }
    },
    {
      "cell_type": "code",
      "metadata": {
        "id": "iQC7pKl4ColE"
      },
      "source": [
        "from zipfile import ZipFile\n",
        "with ZipFile('/content/drive/MyDrive/dogs-vs-cats.zip','r') as zipObj:\n",
        "  #Extract all the contents of zip file in current directory\n",
        "  zipObj.extractall()"
      ],
      "execution_count": null,
      "outputs": []
    },
    {
      "cell_type": "markdown",
      "source": [
        "## Extracting train and test folders"
      ],
      "metadata": {
        "id": "afHGpIEeIjd0"
      }
    },
    {
      "cell_type": "code",
      "metadata": {
        "id": "6s8L-MU58U7N"
      },
      "source": [
        "with ZipFile('train.zip','r') as zipObj:\n",
        "    zipObj.extractall()\n",
        "with ZipFile('test1.zip','r') as zipObj:\n",
        "    zipObj.extractall()"
      ],
      "execution_count": null,
      "outputs": []
    },
    {
      "cell_type": "markdown",
      "metadata": {
        "id": "DOQdXa8aD7uH"
      },
      "source": [
        "## Create sub-directories so the data is in this format"
      ]
    },
    {
      "cell_type": "code",
      "metadata": {
        "id": "OmmJ1GZODxA0"
      },
      "source": [
        "import os\n",
        "import cv2\n",
        "import matplotlib.pyplot as plt\n",
        "from os import makedirs\n",
        "from os import listdir\n",
        "from shutil import copyfile"
      ],
      "execution_count": null,
      "outputs": []
    },
    {
      "cell_type": "code",
      "metadata": {
        "id": "j-sZykt7ELjm"
      },
      "source": [
        "#create directories\n",
        "dataset_home = 'dataset_dogs_vs_cat/'\n",
        "subdirs = ['train/','test/']\n",
        "for subdir in subdirs:\n",
        "    #create label subdirectories\n",
        "    labeldirs = ['dogs/', 'cats/']\n",
        "    for labeldir in labeldirs:\n",
        "      newdir = dataset_home + subdir + labeldir\n",
        "      makedirs(newdir, exist_ok = True)"
      ],
      "execution_count": null,
      "outputs": []
    },
    {
      "cell_type": "markdown",
      "metadata": {
        "id": "QJKvKgSeEXlR"
      },
      "source": [
        "## Now change the dataset to fit this format"
      ]
    },
    {
      "cell_type": "code",
      "metadata": {
        "id": "gcdbvBUEERqP"
      },
      "source": [
        "#create directories\n",
        "from random import seed, random\n",
        "seed(1)\n",
        "#define ratio of pictures to use for validation\n",
        "val_ratio = 0.25\n",
        "#copy training dataset images into subdirectories\n",
        "src_directory = '/content/train'\n",
        "dataset_home = '/content/dataset_dogs_vs_cat/'\n",
        "for file in listdir(src_directory):\n",
        "    src = src_directory +'/'+file\n",
        "    dst_dir = 'train/'\n",
        "    if random() < val_ratio:\n",
        "        dst_dir = 'test/'\n",
        "    if file.startswith('cat'):\n",
        "        dst = dataset_home+dst_dir+'cats/'+file\n",
        "        copyfile(src,dst)\n",
        "    elif file.startswith('dog'):\n",
        "        dst = dataset_home+dst_dir+'dogs/'+ file\n",
        "        copyfile(src,dst)"
      ],
      "execution_count": null,
      "outputs": []
    },
    {
      "cell_type": "code",
      "metadata": {
        "id": "z3XNUCARQGCb"
      },
      "source": [
        "Directory = '/content/dataset_dogs_vs_cat/train'\n",
        "categories = [['cats'],['dogs']]"
      ],
      "execution_count": null,
      "outputs": []
    },
    {
      "cell_type": "markdown",
      "source": [
        "## Visualization"
      ],
      "metadata": {
        "id": "v58hOD5EJ2vv"
      }
    },
    {
      "cell_type": "code",
      "metadata": {
        "id": "e49sd-JKQYRN"
      },
      "source": [
        "for category in categories[1]:\n",
        "  folder = os.path.join(Directory, category)\n",
        "  for img in os.listdir(folder):\n",
        "    img_path = os.path.join(folder, img)\n",
        "    img_arr = cv2.imread(img_path)\n",
        "    plt.imshow(img_arr)\n",
        "    break"
      ],
      "execution_count": null,
      "outputs": []
    },
    {
      "cell_type": "code",
      "source": [
        "for category in categories[0]:\n",
        "  folder = os.path.join(Directory, category)\n",
        "  for img in os.listdir(folder):\n",
        "    img_path = os.path.join(folder, img)\n",
        "    img_arr = cv2.imread(img_path)\n",
        "    plt.imshow(img_arr)\n",
        "    break"
      ],
      "metadata": {
        "id": "K1Kz8pifJv3u"
      },
      "execution_count": null,
      "outputs": []
    },
    {
      "cell_type": "markdown",
      "source": [
        "## Model Building"
      ],
      "metadata": {
        "id": "pPPqhMiXKAc-"
      }
    },
    {
      "cell_type": "code",
      "metadata": {
        "id": "vxtNWHvOSjDj"
      },
      "source": [
        "import keras\n",
        "#import tensorflow as tf \n",
        "from keras.applications.vgg16 import VGG16\n",
        "from keras.models import Model\n",
        "from keras.layers import Dense\n",
        "from keras.layers import Flatten\n",
        "from tensorflow.keras.optimizers import SGD\n",
        "from keras.preprocessing.image import ImageDataGenerator\n",
        "model = VGG16(include_top=False, input_shape=(224,224,3))"
      ],
      "execution_count": null,
      "outputs": []
    },
    {
      "cell_type": "code",
      "metadata": {
        "id": "UGthq9xiZTsa"
      },
      "source": [
        "#mark loaded layers as not trainable\n",
        "for layer in model.layers:\n",
        "  layer.trainable = False\n",
        "#add new classifier layers\n",
        "flat1 = Flatten()(model.layers[-1].output)\n",
        "class1 = Dense(128, activation='relu', kernel_initializer='he_uniform')(flat1)\n",
        "output = Dense(1, activation='sigmoid')(class1)\n",
        "\n",
        "#Define new model\n",
        "model = Model(inputs = model.inputs, outputs = output)\n",
        "\n",
        "#COmpile model\n",
        "opt = SGD(learning_rate=0.001, momentum=0.9)\n",
        "model.compile(optimizer=opt, loss='binary_crossentropy', metrics=['accuracy'])"
      ],
      "execution_count": null,
      "outputs": []
    },
    {
      "cell_type": "code",
      "metadata": {
        "id": "OjlcDzcOcYKX"
      },
      "source": [
        "#Read the model using generator\n",
        "datagen = ImageDataGenerator(featurewise_center=True)\n",
        "#specify imagenet mean values for centering\n",
        "datagen.mean = [128.68, 116.779, 103.939]\n",
        "\n",
        "#prepare iterator\n",
        "train_it = datagen.flow_from_directory('dataset_dogs_vs_cat/train/', class_mode = 'binary', batch_size = 64, target_size = (224,224))\n",
        "test_it = datagen.flow_from_directory('dataset_dogs_vs_cat/test/', class_mode = 'binary', batch_size = 64, target_size = (224,224))"
      ],
      "execution_count": null,
      "outputs": []
    },
    {
      "cell_type": "code",
      "source": [
        "#fit model\n",
        "history = model.fit_generator(train_it, steps_per_epoch=len(train_it), validation_data=test_it, validation_steps=len(test_it), epochs=5, verbose=1)"
      ],
      "metadata": {
        "id": "v49VUcaHEzwp"
      },
      "execution_count": null,
      "outputs": []
    },
    {
      "cell_type": "code",
      "source": [
        ""
      ],
      "metadata": {
        "id": "QtuMU26WFT-a"
      },
      "execution_count": null,
      "outputs": []
    },
    {
      "cell_type": "markdown",
      "source": [
        "## Plot losses and accuracy"
      ],
      "metadata": {
        "id": "7psSr72ZH_DJ"
      }
    },
    {
      "cell_type": "code",
      "source": [
        "import matplotlib.pyplot as plt\n",
        "import sys\n",
        "plt.subplot(211)\n",
        "plt.title(\"Cross Entropy Loss\")\n",
        "plt.plot(history.history['loss'], color = 'blue', label = 'train')\n",
        "plt.plot(history.history['val_loss'], color = 'orange', label='test')\n",
        "plt.legend()\n",
        "\n",
        "#save the plot file\n",
        "filename = sys.argv[0].split('/')[-1]\n",
        "plt.savefig(filename+'plot.png')"
      ],
      "metadata": {
        "id": "14r6wQwhICkS"
      },
      "execution_count": null,
      "outputs": []
    },
    {
      "cell_type": "code",
      "source": [
        "#plot accuracy\n",
        "#plt.subplots(212)\n",
        "plt.title(\"Classification Accuracy\")\n",
        "plt.plot(history.history['accuracy'], color = 'blue', label = 'train')\n",
        "plt.plot(history.history['val_accuracy'], color = 'orange', label='test')\n",
        "plt.legend()\n",
        "\n",
        "#save the plot file\n",
        "#filename = sys.argv[0].split('/')[-1]\n",
        "#plt.savefig(filename+'plot1.png')"
      ],
      "metadata": {
        "id": "uVBPD12QLky6"
      },
      "execution_count": null,
      "outputs": []
    },
    {
      "cell_type": "markdown",
      "source": [
        "## Model Saving"
      ],
      "metadata": {
        "id": "IeRuJw7NPKmf"
      }
    },
    {
      "cell_type": "code",
      "source": [
        "#save the model for future use\n",
        "model.save('final_model.h5')"
      ],
      "metadata": {
        "id": "MYIfUWOAJxyQ"
      },
      "execution_count": null,
      "outputs": []
    },
    {
      "cell_type": "markdown",
      "source": [
        "## Predicting the outputs"
      ],
      "metadata": {
        "id": "Em4HTnFUKEXI"
      }
    },
    {
      "cell_type": "code",
      "source": [
        "from keras.preprocessing.image import load_img, img_to_array\n",
        "from keras.models import load_model\n",
        "#load the model\n",
        "model = load_model('/content/drive/MyDrive/final_model.h5')\n",
        "#load & prepare image\n",
        "img = load_img('/content/drive/MyDrive/train/cat.10057.jpg', target_size = (224,224))\n",
        "\n"
      ],
      "metadata": {
        "id": "MlmZ19DxKARn"
      },
      "execution_count": null,
      "outputs": []
    },
    {
      "cell_type": "code",
      "source": [
        "img"
      ],
      "metadata": {
        "id": "118KNaaNRhUF"
      },
      "execution_count": null,
      "outputs": []
    },
    {
      "cell_type": "markdown",
      "source": [
        "We can see the image is of a cat that means our model must predict it as cat"
      ],
      "metadata": {
        "id": "-ISV5vErdPtd"
      }
    },
    {
      "cell_type": "code",
      "source": [
        "#convert to array\n",
        "img = img_to_array(img)\n",
        "#reshape into a single sample with 3 channels\n",
        "img = img.reshape(1,224,224,3)\n",
        "\n",
        "#center pixel data\n",
        "img = img.astype('float32')\n",
        "img = img - [123.68, 116.779, 103.939]\n",
        "\n",
        "# 1 is for dogs and 0 is for cats\n",
        "result = model.predict(img)\n",
        "print(result)"
      ],
      "metadata": {
        "id": "4M1Deim_RjTS"
      },
      "execution_count": null,
      "outputs": []
    },
    {
      "cell_type": "markdown",
      "source": [
        "**Great the predicted value is near about zero(0) which means our model predicted the image accurately.**"
      ],
      "metadata": {
        "id": "s7dQaH2tdq1B"
      }
    },
    {
      "cell_type": "code",
      "source": [
        ""
      ],
      "metadata": {
        "id": "mMxnCZ3iSueX"
      },
      "execution_count": null,
      "outputs": []
    }
  ]
}